{
 "cells": [
  {
   "cell_type": "code",
   "execution_count": 1,
   "id": "5d6b41bd",
   "metadata": {},
   "outputs": [],
   "source": [
    "import boto3\n",
    "import os\n",
    "from dotenv import load_dotenv"
   ]
  },
  {
   "cell_type": "code",
   "execution_count": 2,
   "id": "15941acd",
   "metadata": {},
   "outputs": [
    {
     "data": {
      "text/plain": [
       "True"
      ]
     },
     "execution_count": 2,
     "metadata": {},
     "output_type": "execute_result"
    }
   ],
   "source": [
    "load_dotenv()"
   ]
  },
  {
   "cell_type": "code",
   "execution_count": 3,
   "id": "d8c6fc68",
   "metadata": {},
   "outputs": [
    {
     "name": "stdout",
     "output_type": "stream",
     "text": [
      "Instance ID: i-00ab8244340ff5306, State: running\n"
     ]
    }
   ],
   "source": [
    "ec2 = boto3.client('ec2', region_name=os.getenv(\"AWS_DEFAULT_REGION\"))\n",
    "\n",
    "response = ec2.describe_instances()\n",
    "\n",
    "for reservation in response['Reservations']:\n",
    "    for instance in reservation['Instances']:\n",
    "        print(f\"Instance ID: {instance['InstanceId']}, State: {instance['State']['Name']}\")\n"
   ]
  },
  {
   "cell_type": "code",
   "execution_count": null,
   "id": "bff564d2",
   "metadata": {},
   "outputs": [],
   "source": []
  }
 ],
 "metadata": {
  "kernelspec": {
   "display_name": "mech_interp_py3pt13",
   "language": "python",
   "name": "mech_interp_py3pt13"
  },
  "language_info": {
   "codemirror_mode": {
    "name": "ipython",
    "version": 3
   },
   "file_extension": ".py",
   "mimetype": "text/x-python",
   "name": "python",
   "nbconvert_exporter": "python",
   "pygments_lexer": "ipython3",
   "version": "3.13.5"
  }
 },
 "nbformat": 4,
 "nbformat_minor": 5
}
